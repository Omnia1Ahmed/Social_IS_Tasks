{
 "cells": [
  {
   "cell_type": "code",
   "execution_count": 1,
   "id": "7ce91f4c",
   "metadata": {},
   "outputs": [],
   "source": [
    "import networkx as nx"
   ]
  },
  {
   "cell_type": "code",
   "execution_count": 2,
   "id": "ee4cb545",
   "metadata": {},
   "outputs": [
    {
     "data": {
      "text/plain": [
       "'2.6.3'"
      ]
     },
     "execution_count": 2,
     "metadata": {},
     "output_type": "execute_result"
    }
   ],
   "source": [
    "nx.__version__"
   ]
  },
  {
   "cell_type": "code",
   "execution_count": 3,
   "id": "bc59f149",
   "metadata": {},
   "outputs": [],
   "source": [
    "G = nx.Graph()"
   ]
  },
  {
   "cell_type": "code",
   "execution_count": 4,
   "id": "dd9121fe",
   "metadata": {},
   "outputs": [],
   "source": [
    "G.add_node('A')"
   ]
  },
  {
   "cell_type": "code",
   "execution_count": 5,
   "id": "dba4a750",
   "metadata": {},
   "outputs": [],
   "source": [
    "nodes = ['B','C','D','E','F']\n",
    "G.add_nodes_from(nodes)"
   ]
  },
  {
   "cell_type": "code",
   "execution_count": 6,
   "id": "98361329",
   "metadata": {},
   "outputs": [],
   "source": [
    "G.add_edge('A','B')"
   ]
  },
  {
   "cell_type": "code",
   "execution_count": 8,
   "id": "615a391c",
   "metadata": {},
   "outputs": [],
   "source": [
    "edges = [('B','C'),('C','D'),('E','C'),('F','D')]\n",
    "G.add_edges_from(edges)"
   ]
  },
  {
   "cell_type": "code",
   "execution_count": 9,
   "id": "6353be9d",
   "metadata": {},
   "outputs": [
    {
     "name": "stderr",
     "output_type": "stream",
     "text": [
      "Matplotlib is building the font cache; this may take a moment.\n"
     ]
    },
    {
     "data": {
      "image/png": "[encoded data removed]",
      "text/plain": [
       "<Figure size 432x288 with 1 Axes>"
      ]
     },
     "metadata": {},
     "output_type": "display_data"
    }
   ],
   "source": [
    "nx.draw(G,\n",
    "        with_labels=True,\n",
    "        node_color='purple',\n",
    "        node_size=2000,\n",
    "        font_color='white',\n",
    "        font_size=20,\n",
    "        )"
   ]
  },
  {
   "cell_type": "code",
   "execution_count": 11,
   "id": "611a6ff5",
   "metadata": {},
   "outputs": [
    {
     "data": {
      "text/plain": [
       "['A', 'B', 'C', 'D', 'E', 'F']"
      ]
     },
     "execution_count": 11,
     "metadata": {},
     "output_type": "execute_result"
    }
   ],
   "source": [
    "list(G.nodes())"
   ]
  },
  {
   "cell_type": "code",
   "execution_count": 12,
   "id": "73cc35b6",
   "metadata": {},
   "outputs": [
    {
     "data": {
      "text/plain": [
       "[('A', 'B'), ('B', 'C'), ('C', 'D'), ('C', 'E'), ('D', 'F')]"
      ]
     },
     "execution_count": 12,
     "metadata": {},
     "output_type": "execute_result"
    }
   ],
   "source": [
    "list(G.edges())"
   ]
  },
  {
   "cell_type": "code",
   "execution_count": 13,
   "id": "5db7a458",
   "metadata": {},
   "outputs": [
    {
     "data": {
      "text/plain": [
       "NodeView(('A', 'B', 'C', 'D', 'E', 'F'))"
      ]
     },
     "execution_count": 13,
     "metadata": {},
     "output_type": "execute_result"
    }
   ],
   "source": [
    "G.nodes()"
   ]
  },
  {
   "cell_type": "code",
   "execution_count": 14,
   "id": "b4bf51d2",
   "metadata": {},
   "outputs": [
    {
     "data": {
      "text/plain": [
       "EdgeView([('A', 'B'), ('B', 'C'), ('C', 'D'), ('C', 'E'), ('D', 'F')])"
      ]
     },
     "execution_count": 14,
     "metadata": {},
     "output_type": "execute_result"
    }
   ],
   "source": [
    "G.edges()"
   ]
  },
  {
   "cell_type": "code",
   "execution_count": 15,
   "id": "a493254f",
   "metadata": {},
   "outputs": [
    {
     "name": "stdout",
     "output_type": "stream",
     "text": [
      "A\n",
      "B\n",
      "C\n",
      "D\n",
      "E\n",
      "F\n"
     ]
    }
   ],
   "source": [
    "for node in G.nodes:\n",
    "    print(node)"
   ]
  },
  {
   "cell_type": "code",
   "execution_count": 16,
   "id": "c8d1295b",
   "metadata": {},
   "outputs": [
    {
     "name": "stdout",
     "output_type": "stream",
     "text": [
      "('A', 'B')\n",
      "('B', 'C')\n",
      "('C', 'D')\n",
      "('C', 'E')\n",
      "('D', 'F')\n"
     ]
    }
   ],
   "source": [
    "for edge in G.edges:\n",
    "    print(edge)"
   ]
  },
  {
   "cell_type": "code",
   "execution_count": 17,
   "id": "4d952fef",
   "metadata": {},
   "outputs": [
    {
     "data": {
      "text/plain": [
       "6"
      ]
     },
     "execution_count": 17,
     "metadata": {},
     "output_type": "execute_result"
    }
   ],
   "source": [
    "G.number_of_nodes()"
   ]
  },
  {
   "cell_type": "code",
   "execution_count": 18,
   "id": "edd0ebf1",
   "metadata": {},
   "outputs": [
    {
     "data": {
      "text/plain": [
       "5"
      ]
     },
     "execution_count": 18,
     "metadata": {},
     "output_type": "execute_result"
    }
   ],
   "source": [
    "G.number_of_edges()"
   ]
  },
  {
   "cell_type": "code",
   "execution_count": 20,
   "id": "927e1dfe",
   "metadata": {},
   "outputs": [
    {
     "name": "stdout",
     "output_type": "stream",
     "text": [
      "B\n",
      "D\n",
      "E\n"
     ]
    }
   ],
   "source": [
    "for neighbor in G.neighbors('C'):\n",
    "    print(neighbor)"
   ]
  },
  {
   "cell_type": "code",
   "execution_count": 21,
   "id": "cc2685a4",
   "metadata": {},
   "outputs": [
    {
     "data": {
      "text/plain": [
       "['B']"
      ]
     },
     "execution_count": 21,
     "metadata": {},
     "output_type": "execute_result"
    }
   ],
   "source": [
    "list(G.neighbors('A'))"
   ]
  },
  {
   "cell_type": "code",
   "execution_count": 22,
   "id": "be25633a",
   "metadata": {},
   "outputs": [
    {
     "data": {
      "text/plain": [
       "True"
      ]
     },
     "execution_count": 22,
     "metadata": {},
     "output_type": "execute_result"
    }
   ],
   "source": [
    "nx.is_tree(G)"
   ]
  },
  {
   "cell_type": "code",
   "execution_count": 23,
   "id": "1adc2510",
   "metadata": {},
   "outputs": [
    {
     "data": {
      "text/plain": [
       "True"
      ]
     },
     "execution_count": 23,
     "metadata": {},
     "output_type": "execute_result"
    }
   ],
   "source": [
    "nx.is_connected(G)"
   ]
  },
  {
   "cell_type": "code",
   "execution_count": 24,
   "id": "adbeed60",
   "metadata": {},
   "outputs": [
    {
     "data": {
      "text/plain": [
       "False"
      ]
     },
     "execution_count": 24,
     "metadata": {},
     "output_type": "execute_result"
    }
   ],
   "source": [
    "G.has_node('Z')"
   ]
  },
  {
   "cell_type": "code",
   "execution_count": 25,
   "id": "4f337de7",
   "metadata": {},
   "outputs": [
    {
     "data": {
      "text/plain": [
       "True"
      ]
     },
     "execution_count": 25,
     "metadata": {},
     "output_type": "execute_result"
    }
   ],
   "source": [
    "G.has_node('B')"
   ]
  },
  {
   "cell_type": "code",
   "execution_count": 26,
   "id": "683772e8",
   "metadata": {},
   "outputs": [
    {
     "data": {
      "text/plain": [
       "True"
      ]
     },
     "execution_count": 26,
     "metadata": {},
     "output_type": "execute_result"
    }
   ],
   "source": [
    "'C' in G.nodes()"
   ]
  },
  {
   "cell_type": "code",
   "execution_count": 27,
   "id": "714fa217",
   "metadata": {},
   "outputs": [
    {
     "data": {
      "text/plain": [
       "True"
      ]
     },
     "execution_count": 27,
     "metadata": {},
     "output_type": "execute_result"
    }
   ],
   "source": [
    "G.has_edge('C', 'E')"
   ]
  },
  {
   "cell_type": "code",
   "execution_count": 28,
   "id": "4ff5431d",
   "metadata": {},
   "outputs": [
    {
     "data": {
      "text/plain": [
       "False"
      ]
     },
     "execution_count": 28,
     "metadata": {},
     "output_type": "execute_result"
    }
   ],
   "source": [
    "G.has_edge('A', 'F')"
   ]
  },
  {
   "cell_type": "code",
   "execution_count": 29,
   "id": "3a582739",
   "metadata": {},
   "outputs": [
    {
     "data": {
      "text/plain": [
       "True"
      ]
     },
     "execution_count": 29,
     "metadata": {},
     "output_type": "execute_result"
    }
   ],
   "source": [
    "('C','E') in G.edges()"
   ]
  },
  {
   "cell_type": "code",
   "execution_count": 30,
   "id": "843bde65",
   "metadata": {},
   "outputs": [
    {
     "data": {
      "text/plain": [
       "3"
      ]
     },
     "execution_count": 30,
     "metadata": {},
     "output_type": "execute_result"
    }
   ],
   "source": [
    "len(list(G.neighbors('C')))"
   ]
  },
  {
   "cell_type": "code",
   "execution_count": 31,
   "id": "b0c6479d",
   "metadata": {},
   "outputs": [
    {
     "data": {
      "text/plain": [
       "1"
      ]
     },
     "execution_count": 31,
     "metadata": {},
     "output_type": "execute_result"
    }
   ],
   "source": [
    "G.degree('A')"
   ]
  },
  {
   "cell_type": "code",
   "execution_count": 32,
   "id": "aa05c5e2",
   "metadata": {},
   "outputs": [
    {
     "data": {
      "text/plain": [
       "['A', 'E', 'F']"
      ]
     },
     "execution_count": 32,
     "metadata": {},
     "output_type": "execute_result"
    }
   ],
   "source": [
    "# SOLVE EXERCISE 1:\n",
    "leave_nodes = []\n",
    "def get_leaves(G):\n",
    "    for node in G.nodes():\n",
    "        if G.degree(node) == 1:\n",
    "            leave_nodes.append(node)\n",
    "    return leave_nodes\n",
    "\n",
    "get_leaves(G)\n",
    "            \n",
    "            "
   ]
  },
  {
   "cell_type": "code",
   "execution_count": 33,
   "id": "5aa37525",
   "metadata": {},
   "outputs": [
    {
     "name": "stdout",
     "output_type": "stream",
     "text": [
      "George Frank Dennis\n",
      "Dennis Claire Esther\n",
      "Claire Frank Alice Esther\n",
      "Bob Alice\n",
      "Frank Alice\n",
      "Alice\n",
      "Esther\n",
      "Shelly\n",
      "\n"
     ]
    }
   ],
   "source": [
    "print(open('friends.adjlist').read())"
   ]
  },
  {
   "cell_type": "code",
   "execution_count": 34,
   "id": "e52b375b",
   "metadata": {},
   "outputs": [],
   "source": [
    "Social_Graph = nx.read_adjlist('friends.adjlist')"
   ]
  },
  {
   "cell_type": "code",
   "execution_count": 49,
   "id": "cfe38319",
   "metadata": {},
   "outputs": [
    {
     "data": {
      "image/png": "[encoded data removed]",
      "text/plain": [
       "<Figure size 432x288 with 1 Axes>"
      ]
     },
     "metadata": {},
     "output_type": "display_data"
    }
   ],
   "source": [
    "nx.draw(Social_Graph, node_size=2000, node_color='palevioletred', with_labels=True, font_color='white')"
   ]
  },
  {
   "cell_type": "code",
   "execution_count": 51,
   "id": "4c1224b6",
   "metadata": {},
   "outputs": [
    {
     "data": {
      "text/plain": [
       "1"
      ]
     },
     "execution_count": 51,
     "metadata": {},
     "output_type": "execute_result"
    }
   ],
   "source": [
    "Social_Graph.degree('Bob')"
   ]
  },
  {
   "cell_type": "code",
   "execution_count": 53,
   "id": "40c73a34",
   "metadata": {},
   "outputs": [
    {
     "data": {
      "text/plain": [
       "('Claire', 4)"
      ]
     },
     "execution_count": 53,
     "metadata": {},
     "output_type": "execute_result"
    }
   ],
   "source": [
    "#SOLVE EXERCISE 2:\n",
    "\n",
    "def max_degree(G):\n",
    "    mx = 0\n",
    "    res_node = \"\"\n",
    "    for node in G.nodes():\n",
    "        if G.degree(node) > mx:\n",
    "            mx = G.degree(node)\n",
    "            res_node = node\n",
    "    max_degree = (res_node,mx)\n",
    "            \n",
    "    return max_degree\n",
    "\n",
    "max_degree(Social_Graph)  "
   ]
  },
  {
   "cell_type": "code",
   "execution_count": 62,
   "id": "0b2d1f94",
   "metadata": {},
   "outputs": [
    {
     "name": "stdout",
     "output_type": "stream",
     "text": [
      "['Frank']\n",
      "[]\n",
      "['Dennis', 'Frank']\n"
     ]
    }
   ],
   "source": [
    "#SOLVE EXERCISE 3:\n",
    "def mutual_friends(G, node_1, node_2):\n",
    "    mu_friends = []\n",
    "    for i in list(G.neighbors(node_1)):\n",
    "        if i in list(G.neighbors(node_2)):\n",
    "            mu_friends.append(i)\n",
    "    return mu_friends\n",
    "\n",
    "print(mutual_friends(Social_Graph, 'Alice', 'Claire'))\n",
    "print(mutual_friends(Social_Graph, 'George', 'Bob'))\n",
    "print(sorted(mutual_friends(Social_Graph, 'Claire', 'George')))"
   ]
  },
  {
   "cell_type": "code",
   "execution_count": 63,
   "id": "89d55c27",
   "metadata": {},
   "outputs": [
    {
     "data": {
      "image/png": "[encoded data removed]",
      "text/plain": [
       "<Figure size 432x288 with 1 Axes>"
      ]
     },
     "metadata": {},
     "output_type": "display_data"
    }
   ],
   "source": [
    "Di = nx.DiGraph()\n",
    "\n",
    "Di.add_edges_from([(1,2),(2,3),(3,2),(3,4),(3,5),(4,5),(4,6),(5,6),(6,4),(4,2)])\n",
    "\n",
    "nx.draw(Di, \n",
    "        with_labels=True,\n",
    "        node_color='darkolivegreen',\n",
    "        node_size=2000,\n",
    "        font_color='white',\n",
    "        font_size=20,)"
   ]
  },
  {
   "cell_type": "code",
   "execution_count": 64,
   "id": "0f2a21de",
   "metadata": {},
   "outputs": [
    {
     "data": {
      "text/plain": [
       "True"
      ]
     },
     "execution_count": 64,
     "metadata": {},
     "output_type": "execute_result"
    }
   ],
   "source": [
    "Di.has_edge(3,5)"
   ]
  },
  {
   "cell_type": "code",
   "execution_count": 66,
   "id": "26567e49",
   "metadata": {},
   "outputs": [
    {
     "data": {
      "text/plain": [
       "False"
      ]
     },
     "execution_count": 66,
     "metadata": {},
     "output_type": "execute_result"
    }
   ],
   "source": [
    "Di.has_edge(6,1)"
   ]
  },
  {
   "cell_type": "code",
   "execution_count": 67,
   "id": "af61a695",
   "metadata": {},
   "outputs": [
    {
     "name": "stdout",
     "output_type": "stream",
     "text": [
      "Successors of 4: [5, 6, 2]\n",
      "Predecessors of 4: [3, 6]\n"
     ]
    }
   ],
   "source": [
    "print('Successors of 4:', list(Di.successors(4)))\n",
    "\n",
    "print('Predecessors of 4:', list(Di.predecessors(4)))"
   ]
  },
  {
   "cell_type": "code",
   "execution_count": 68,
   "id": "e5cc5251",
   "metadata": {},
   "outputs": [
    {
     "data": {
      "text/plain": [
       "1"
      ]
     },
     "execution_count": 68,
     "metadata": {},
     "output_type": "execute_result"
    }
   ],
   "source": [
    "Di.in_degree(3)"
   ]
  },
  {
   "cell_type": "code",
   "execution_count": 69,
   "id": "bc504435",
   "metadata": {},
   "outputs": [
    {
     "data": {
      "text/plain": [
       "3"
      ]
     },
     "execution_count": 69,
     "metadata": {},
     "output_type": "execute_result"
    }
   ],
   "source": [
    "Di.out_degree(3)"
   ]
  },
  {
   "cell_type": "code",
   "execution_count": 70,
   "id": "d5aa936e",
   "metadata": {},
   "outputs": [
    {
     "data": {
      "text/plain": [
       "5"
      ]
     },
     "execution_count": 70,
     "metadata": {},
     "output_type": "execute_result"
    }
   ],
   "source": [
    "Di.degree(4)"
   ]
  },
  {
   "cell_type": "code",
   "execution_count": 72,
   "id": "2d98c938",
   "metadata": {},
   "outputs": [
    {
     "name": "stdout",
     "output_type": "stream",
     "text": [
      "Successors of 6: [4]\n",
      "\"Neighbors\" of 6: [4]\n"
     ]
    }
   ],
   "source": [
    "print('Successors of 6:', list(Di.successors(6)))\n",
    "print('\"Neighbors\" of 6:', list(Di.neighbors(6)))"
   ]
  },
  {
   "cell_type": "code",
   "execution_count": null,
   "id": "1591e4d5",
   "metadata": {},
   "outputs": [],
   "source": []
  }
 ],
 "metadata": {
  "kernelspec": {
   "display_name": "Python 3 (ipykernel)",
   "language": "python",
   "name": "python3"
  },
  "language_info": {
   "codemirror_mode": {
    "name": "ipython",
    "version": 3
   },
   "file_extension": ".py",
   "mimetype": "text/x-python",
   "name": "python",
   "nbconvert_exporter": "python",
   "pygments_lexer": "ipython3",
   "version": "3.9.7"
  }
 },
 "nbformat": 4,
 "nbformat_minor": 5
}
