{
 "cells": [
  {
   "cell_type": "code",
   "execution_count": 1,
   "id": "78ae588f",
   "metadata": {},
   "outputs": [
    {
     "name": "stdout",
     "output_type": "stream",
     "text": [
      "Hello from Jupyter\n",
      "Hello\n",
      "20\n"
     ]
    },
    {
     "data": {
      "text/plain": [
       "'Hello'"
      ]
     },
     "execution_count": 1,
     "metadata": {},
     "output_type": "execute_result"
    }
   ],
   "source": [
    "# 1. Print \n",
    "\n",
    "print('Hello from Jupyter')\n",
    "\n",
    "# Define variable\n",
    "str1 = 'Hello'\n",
    "int1 = 20\n",
    "\n",
    "print(str1)\n",
    "print(int1)\n",
    "\n",
    "\n",
    "str1\n",
    "\n",
    "    \n",
    "\n",
    "\n"
   ]
  },
  {
   "cell_type": "code",
   "execution_count": 18,
   "id": "23fd5db1",
   "metadata": {},
   "outputs": [
    {
     "name": "stdout",
     "output_type": "stream",
     "text": [
      "You have a few employees\n"
     ]
    }
   ],
   "source": [
    "# 2. Conditionals:\n",
    "number_of_employees = 45\n",
    "\n",
    "if number_of_employees < 1:\n",
    "    print('You have no employees')\n",
    "elif number_of_employees == 1:\n",
    "    print('You have one employee')\n",
    "elif number_of_employees < 50:\n",
    "    print('You have a few employees')\n",
    "else:\n",
    "    print('You have many employees!')\n",
    "    "
   ]
  },
  {
   "cell_type": "code",
   "execution_count": 19,
   "id": "c20fd9d6",
   "metadata": {},
   "outputs": [
    {
     "data": {
      "text/plain": [
       "'Ali'"
      ]
     },
     "execution_count": 19,
     "metadata": {},
     "output_type": "execute_result"
    }
   ],
   "source": [
    "# 3. Lists\n",
    "\n",
    "\n",
    "employees_names = ['Ahmed','Ali','Mohamed','Omar','Salem']\n",
    "\n",
    "\n",
    "employees_names[1]\n"
   ]
  },
  {
   "cell_type": "code",
   "execution_count": 20,
   "id": "63952492",
   "metadata": {},
   "outputs": [
    {
     "data": {
      "text/plain": [
       "'Ahmed'"
      ]
     },
     "execution_count": 20,
     "metadata": {},
     "output_type": "execute_result"
    }
   ],
   "source": [
    "# Print first item:\n",
    "employees_names[0]"
   ]
  },
  {
   "cell_type": "code",
   "execution_count": 21,
   "id": "c7c72b41",
   "metadata": {},
   "outputs": [
    {
     "data": {
      "text/plain": [
       "'Salem'"
      ]
     },
     "execution_count": 21,
     "metadata": {},
     "output_type": "execute_result"
    }
   ],
   "source": [
    "# Print last item:\n",
    "employees_names[-1]"
   ]
  },
  {
   "cell_type": "code",
   "execution_count": 22,
   "id": "15a6e183",
   "metadata": {},
   "outputs": [
    {
     "data": {
      "text/plain": [
       "['Ahmed', 'Ali']"
      ]
     },
     "execution_count": 22,
     "metadata": {},
     "output_type": "execute_result"
    }
   ],
   "source": [
    "# Get a subset of the list items:\n",
    "\n",
    "employees_names[0:2]"
   ]
  },
  {
   "cell_type": "code",
   "execution_count": 23,
   "id": "cd897979",
   "metadata": {},
   "outputs": [
    {
     "data": {
      "text/plain": [
       "['Ahmed', 'Ali']"
      ]
     },
     "execution_count": 23,
     "metadata": {},
     "output_type": "execute_result"
    }
   ],
   "source": [
    "# Slicing from the beginning of the list:\n",
    "employees_names[:2]"
   ]
  },
  {
   "cell_type": "code",
   "execution_count": 24,
   "id": "5b7d7c25",
   "metadata": {},
   "outputs": [
    {
     "data": {
      "text/plain": [
       "['Mohamed', 'Omar', 'Salem']"
      ]
     },
     "execution_count": 24,
     "metadata": {},
     "output_type": "execute_result"
    }
   ],
   "source": [
    "# Slicing to the end of the list:\n",
    "employees_names[2:]"
   ]
  },
  {
   "cell_type": "code",
   "execution_count": 25,
   "id": "701d1aca",
   "metadata": {},
   "outputs": [
    {
     "data": {
      "text/plain": [
       "['Ahmed', 'Ali', 'Mohamed', 'Omar', 'Salem', 'Maged']"
      ]
     },
     "execution_count": 25,
     "metadata": {},
     "output_type": "execute_result"
    }
   ],
   "source": [
    "# 3.2 Mutable\n",
    "# Add items to the end of the list:\n",
    "employees_names.append('Maged')\n",
    "employees_names\n"
   ]
  },
  {
   "cell_type": "code",
   "execution_count": 32,
   "id": "9a0e20f4",
   "metadata": {},
   "outputs": [
    {
     "data": {
      "text/plain": [
       "['Ahmed', 'Ali', 'Omar', 'Salem', 'Maged', 'Fahad']"
      ]
     },
     "execution_count": 32,
     "metadata": {},
     "output_type": "execute_result"
    }
   ],
   "source": [
    "# delete items:\n",
    "del employees_names[2]\n",
    "employees_names"
   ]
  },
  {
   "cell_type": "code",
   "execution_count": 33,
   "id": "104286e5",
   "metadata": {},
   "outputs": [
    {
     "data": {
      "text/plain": [
       "['Ahmed',\n",
       " 'Ali',\n",
       " 'Omar',\n",
       " 'Salem',\n",
       " 'Maged',\n",
       " 'Fahad',\n",
       " 'Fahad',\n",
       " 'Fahad',\n",
       " 'Mohamed']"
      ]
     },
     "execution_count": 33,
     "metadata": {},
     "output_type": "execute_result"
    }
   ],
   "source": [
    "# 3.3 Non-unique\n",
    "# Add the same name to list:\n",
    "employees_names.append('Fahad')\n",
    "employees_names.append('Fahad')\n",
    "employees_names.append('Mohamed')\n",
    "employees_names"
   ]
  },
  {
   "cell_type": "code",
   "execution_count": 34,
   "id": "69349eb7",
   "metadata": {},
   "outputs": [
    {
     "name": "stdout",
     "output_type": "stream",
     "text": [
      "Hello Ahmed!\n",
      "Hello Ali!\n",
      "Hello Omar!\n",
      "Hello Salem!\n",
      "Hello Maged!\n",
      "Hello Fahad!\n",
      "Hello Fahad!\n",
      "Hello Fahad!\n",
      "Hello Mohamed!\n"
     ]
    }
   ],
   "source": [
    "# 4. Loops\n",
    "\n",
    "for employee_name in employees_names:\n",
    "    print('Hello ' + employee_name + '!')"
   ]
  },
  {
   "cell_type": "code",
   "execution_count": 36,
   "id": "4d067fbf",
   "metadata": {},
   "outputs": [
    {
     "data": {
      "text/plain": [
       "['Mohamed']"
      ]
     },
     "execution_count": 36,
     "metadata": {},
     "output_type": "execute_result"
    }
   ],
   "source": [
    "# 4.2 Loops, lists, and conditionals\n",
    "# Initialize an empty list and add to it the\n",
    "# student names containing more than five characters\n",
    "long_names = []\n",
    "for employee_name in employees_names:\n",
    "    # This is our criterion\n",
    "    if len(employee_name) > 5:\n",
    "        long_names.append(employee_name)\n",
    "\n",
    "long_names"
   ]
  },
  {
   "cell_type": "code",
   "execution_count": 38,
   "id": "b0aa2ce8",
   "metadata": {},
   "outputs": [
    {
     "data": {
      "text/plain": [
       "[('Ahmed', 'Ahmed'),\n",
       " ('Ahmed', 'Ali'),\n",
       " ('Ahmed', 'Omar'),\n",
       " ('Ahmed', 'Salem'),\n",
       " ('Ahmed', 'Maged'),\n",
       " ('Ahmed', 'Fahad'),\n",
       " ('Ahmed', 'Fahad'),\n",
       " ('Ahmed', 'Fahad'),\n",
       " ('Ahmed', 'Mohamed'),\n",
       " ('Ali', 'Ahmed'),\n",
       " ('Ali', 'Ali'),\n",
       " ('Ali', 'Omar'),\n",
       " ('Ali', 'Salem'),\n",
       " ('Ali', 'Maged'),\n",
       " ('Ali', 'Fahad'),\n",
       " ('Ali', 'Fahad'),\n",
       " ('Ali', 'Fahad'),\n",
       " ('Ali', 'Mohamed'),\n",
       " ('Omar', 'Ahmed'),\n",
       " ('Omar', 'Ali'),\n",
       " ('Omar', 'Omar'),\n",
       " ('Omar', 'Salem'),\n",
       " ('Omar', 'Maged'),\n",
       " ('Omar', 'Fahad'),\n",
       " ('Omar', 'Fahad'),\n",
       " ('Omar', 'Fahad'),\n",
       " ('Omar', 'Mohamed'),\n",
       " ('Salem', 'Ahmed'),\n",
       " ('Salem', 'Ali'),\n",
       " ('Salem', 'Omar'),\n",
       " ('Salem', 'Salem'),\n",
       " ('Salem', 'Maged'),\n",
       " ('Salem', 'Fahad'),\n",
       " ('Salem', 'Fahad'),\n",
       " ('Salem', 'Fahad'),\n",
       " ('Salem', 'Mohamed'),\n",
       " ('Maged', 'Ahmed'),\n",
       " ('Maged', 'Ali'),\n",
       " ('Maged', 'Omar'),\n",
       " ('Maged', 'Salem'),\n",
       " ('Maged', 'Maged'),\n",
       " ('Maged', 'Fahad'),\n",
       " ('Maged', 'Fahad'),\n",
       " ('Maged', 'Fahad'),\n",
       " ('Maged', 'Mohamed'),\n",
       " ('Fahad', 'Ahmed'),\n",
       " ('Fahad', 'Ali'),\n",
       " ('Fahad', 'Omar'),\n",
       " ('Fahad', 'Salem'),\n",
       " ('Fahad', 'Maged'),\n",
       " ('Fahad', 'Fahad'),\n",
       " ('Fahad', 'Fahad'),\n",
       " ('Fahad', 'Fahad'),\n",
       " ('Fahad', 'Mohamed'),\n",
       " ('Fahad', 'Ahmed'),\n",
       " ('Fahad', 'Ali'),\n",
       " ('Fahad', 'Omar'),\n",
       " ('Fahad', 'Salem'),\n",
       " ('Fahad', 'Maged'),\n",
       " ('Fahad', 'Fahad'),\n",
       " ('Fahad', 'Fahad'),\n",
       " ('Fahad', 'Fahad'),\n",
       " ('Fahad', 'Mohamed'),\n",
       " ('Fahad', 'Ahmed'),\n",
       " ('Fahad', 'Ali'),\n",
       " ('Fahad', 'Omar'),\n",
       " ('Fahad', 'Salem'),\n",
       " ('Fahad', 'Maged'),\n",
       " ('Fahad', 'Fahad'),\n",
       " ('Fahad', 'Fahad'),\n",
       " ('Fahad', 'Fahad'),\n",
       " ('Fahad', 'Mohamed'),\n",
       " ('Mohamed', 'Ahmed'),\n",
       " ('Mohamed', 'Ali'),\n",
       " ('Mohamed', 'Omar'),\n",
       " ('Mohamed', 'Salem'),\n",
       " ('Mohamed', 'Maged'),\n",
       " ('Mohamed', 'Fahad'),\n",
       " ('Mohamed', 'Fahad'),\n",
       " ('Mohamed', 'Fahad'),\n",
       " ('Mohamed', 'Mohamed')]"
      ]
     },
     "execution_count": 38,
     "metadata": {},
     "output_type": "execute_result"
    }
   ],
   "source": [
    "# 4.3 Nested loops\n",
    "employee_pairs = []\n",
    "for employee_name_0 in employees_names:\n",
    "    for employee_name_1 in employees_names:\n",
    "        employee_pairs.append(\n",
    "            (employee_name_0, employee_name_1)\n",
    "        )\n",
    "\n",
    "employee_pairs"
   ]
  },
  {
   "cell_type": "code",
   "execution_count": 39,
   "id": "187554c9",
   "metadata": {},
   "outputs": [
    {
     "data": {
      "text/plain": [
       "[('Ahmed', 'Ali'),\n",
       " ('Ahmed', 'Omar'),\n",
       " ('Ahmed', 'Salem'),\n",
       " ('Ahmed', 'Maged'),\n",
       " ('Ahmed', 'Fahad'),\n",
       " ('Ahmed', 'Fahad'),\n",
       " ('Ahmed', 'Fahad'),\n",
       " ('Ahmed', 'Mohamed'),\n",
       " ('Ali', 'Ahmed'),\n",
       " ('Ali', 'Omar'),\n",
       " ('Ali', 'Salem'),\n",
       " ('Ali', 'Maged'),\n",
       " ('Ali', 'Fahad'),\n",
       " ('Ali', 'Fahad'),\n",
       " ('Ali', 'Fahad'),\n",
       " ('Ali', 'Mohamed'),\n",
       " ('Omar', 'Ahmed'),\n",
       " ('Omar', 'Ali'),\n",
       " ('Omar', 'Salem'),\n",
       " ('Omar', 'Maged'),\n",
       " ('Omar', 'Fahad'),\n",
       " ('Omar', 'Fahad'),\n",
       " ('Omar', 'Fahad'),\n",
       " ('Omar', 'Mohamed'),\n",
       " ('Salem', 'Ahmed'),\n",
       " ('Salem', 'Ali'),\n",
       " ('Salem', 'Omar'),\n",
       " ('Salem', 'Maged'),\n",
       " ('Salem', 'Fahad'),\n",
       " ('Salem', 'Fahad'),\n",
       " ('Salem', 'Fahad'),\n",
       " ('Salem', 'Mohamed'),\n",
       " ('Maged', 'Ahmed'),\n",
       " ('Maged', 'Ali'),\n",
       " ('Maged', 'Omar'),\n",
       " ('Maged', 'Salem'),\n",
       " ('Maged', 'Fahad'),\n",
       " ('Maged', 'Fahad'),\n",
       " ('Maged', 'Fahad'),\n",
       " ('Maged', 'Mohamed'),\n",
       " ('Fahad', 'Ahmed'),\n",
       " ('Fahad', 'Ali'),\n",
       " ('Fahad', 'Omar'),\n",
       " ('Fahad', 'Salem'),\n",
       " ('Fahad', 'Maged'),\n",
       " ('Fahad', 'Mohamed'),\n",
       " ('Fahad', 'Ahmed'),\n",
       " ('Fahad', 'Ali'),\n",
       " ('Fahad', 'Omar'),\n",
       " ('Fahad', 'Salem'),\n",
       " ('Fahad', 'Maged'),\n",
       " ('Fahad', 'Mohamed'),\n",
       " ('Fahad', 'Ahmed'),\n",
       " ('Fahad', 'Ali'),\n",
       " ('Fahad', 'Omar'),\n",
       " ('Fahad', 'Salem'),\n",
       " ('Fahad', 'Maged'),\n",
       " ('Fahad', 'Mohamed'),\n",
       " ('Mohamed', 'Ahmed'),\n",
       " ('Mohamed', 'Ali'),\n",
       " ('Mohamed', 'Omar'),\n",
       " ('Mohamed', 'Salem'),\n",
       " ('Mohamed', 'Maged'),\n",
       " ('Mohamed', 'Fahad'),\n",
       " ('Mohamed', 'Fahad'),\n",
       " ('Mohamed', 'Fahad')]"
      ]
     },
     "execution_count": 39,
     "metadata": {},
     "output_type": "execute_result"
    }
   ],
   "source": [
    "# Filter out repeat of name:\n",
    "\n",
    "employees_pairs = []\n",
    "for employee_name_0 in employees_names:\n",
    "    for employee_name_1 in employees_names:\n",
    "        # This is the criterion we added\n",
    "        if employee_name_0 != employee_name_1:\n",
    "            employees_pairs.append(\n",
    "                (employee_name_0, employee_name_1)\n",
    "            )\n",
    "\n",
    "employees_pairs"
   ]
  },
  {
   "cell_type": "code",
   "execution_count": 41,
   "id": "87b4c82c",
   "metadata": {},
   "outputs": [
    {
     "data": {
      "text/plain": [
       "('Ali', 'C#', 'A-')"
      ]
     },
     "execution_count": 41,
     "metadata": {},
     "output_type": "execute_result"
    }
   ],
   "source": [
    "# 5. Tuples\n",
    "student_grade = ('Ali', 'C#', 'A-')\n",
    "student_grade"
   ]
  },
  {
   "cell_type": "code",
   "execution_count": 42,
   "id": "bc29c25a",
   "metadata": {},
   "outputs": [
    {
     "name": "stdout",
     "output_type": "stream",
     "text": [
      "Ali\n",
      "C#\n",
      "A-\n",
      "Congratulations Ali on getting an A in Java\n",
      "Congratulations Malek on getting an A- in Apm\n"
     ]
    }
   ],
   "source": [
    "# 5.2 Unpacking\n",
    "\n",
    "student_grade = ('Ali', 'C#', 'A-')\n",
    "student_name, subject, grade = student_grade\n",
    "\n",
    "print(student_name)\n",
    "print(subject)\n",
    "print(grade)\n",
    "\n",
    "student_grades = [\n",
    "    ('Ali', 'Java', 'A'),\n",
    "    ('Mohamed', 'C++', 'C'),\n",
    "    ('Omar', 'ADB', 'B+'),\n",
    "    ('Malek', 'Apm', 'A-'),\n",
    "]\n",
    "\n",
    "for student_name, subject, grade in student_grades:\n",
    "    if grade.startswith('A'):\n",
    "        print('Congratulations', student_name,\n",
    "              'on getting an', grade,\n",
    "              'in', subject)"
   ]
  },
  {
   "cell_type": "code",
   "execution_count": 45,
   "id": "60a8d1d1",
   "metadata": {},
   "outputs": [
    {
     "data": {
      "text/plain": [
       "'OS'"
      ]
     },
     "execution_count": 45,
     "metadata": {},
     "output_type": "execute_result"
    }
   ],
   "source": [
    "# 6. Dictionaries\n",
    "stu_subjects = {\n",
    "    'Ali': 'Java',\n",
    "    'Basem': 'C#',\n",
    "    'Maged': 'OS',\n",
    "    'Haytham': 'SE',\n",
    "}\n",
    "stu_subjects['Maged']"
   ]
  },
  {
   "cell_type": "code",
   "execution_count": 46,
   "id": "ff7eb00d",
   "metadata": {},
   "outputs": [
    {
     "data": {
      "text/plain": [
       "False"
      ]
     },
     "execution_count": 46,
     "metadata": {},
     "output_type": "execute_result"
    }
   ],
   "source": [
    "# Check if a particular key is in a dictionary:\n",
    "'Zeiad' in stu_subjects\n"
   ]
  },
  {
   "cell_type": "code",
   "execution_count": 47,
   "id": "82cdbbda",
   "metadata": {},
   "outputs": [
    {
     "data": {
      "text/plain": [
       "{'Ali': 'Java', 'Basem': 'C#', 'Maged': 'OS', 'Haytham': 'SE', 'Sameh': 'Apm'}"
      ]
     },
     "execution_count": 47,
     "metadata": {},
     "output_type": "execute_result"
    }
   ],
   "source": [
    "\n",
    "# Add an entry that doesn't exist\n",
    "stu_subjects['Sameh'] = 'Apm'\n",
    "stu_subjects"
   ]
  },
  {
   "cell_type": "code",
   "execution_count": 48,
   "id": "57441e5f",
   "metadata": {},
   "outputs": [
    {
     "data": {
      "text/plain": [
       "{'Ali': 'Java', 'Maged': 'OS', 'Haytham': 'SE', 'Sameh': 'Apm'}"
      ]
     },
     "execution_count": 48,
     "metadata": {},
     "output_type": "execute_result"
    }
   ],
   "source": [
    "# Delete an entry that exists\n",
    "del stu_subjects['Basem']\n",
    "stu_subjects"
   ]
  },
  {
   "cell_type": "code",
   "execution_count": 49,
   "id": "b92b65ca",
   "metadata": {},
   "outputs": [
    {
     "data": {
      "text/plain": [
       "{'Ali': 'Java', 'Maged': 'OS', 'Haytham': 'SE', 'Sameh': 'Python'}"
      ]
     },
     "execution_count": 49,
     "metadata": {},
     "output_type": "execute_result"
    }
   ],
   "source": [
    "# Change an entry that does exist\n",
    "stu_subjects['Sameh'] = 'Python'\n",
    "stu_subjects"
   ]
  },
  {
   "cell_type": "code",
   "execution_count": 50,
   "id": "910516aa",
   "metadata": {},
   "outputs": [
    {
     "name": "stdout",
     "output_type": "stream",
     "text": [
      "Ali is taking Java\n",
      "Maged is taking OS\n",
      "Haytham is taking SE\n",
      "Sameh is taking Python\n"
     ]
    }
   ],
   "source": [
    "# 6.4 Looping over dictionaries:\n",
    "for key in stu_subjects:\n",
    "    value = stu_subjects[key]\n",
    "    print(key, 'is taking', value)\n",
    "    "
   ]
  },
  {
   "cell_type": "code",
   "execution_count": 51,
   "id": "0aabff49",
   "metadata": {},
   "outputs": [
    {
     "name": "stdout",
     "output_type": "stream",
     "text": [
      "Ali got a grade of A in C#\n"
     ]
    }
   ],
   "source": [
    "# 6.5 Dictionaries as records:\n",
    "record = {\n",
    "    'name': 'Ali',\n",
    "    'subject': 'C#',\n",
    "    'grade': 'A',\n",
    "}\n",
    "print(record['name'],\n",
    "      'got a grade of', record['grade'],\n",
    "      'in', record['subject'])"
   ]
  },
  {
   "cell_type": "code",
   "execution_count": 52,
   "id": "2663b257",
   "metadata": {},
   "outputs": [
    {
     "data": {
      "text/plain": [
       "('Mohamed', 'C++', 'C')"
      ]
     },
     "execution_count": 52,
     "metadata": {},
     "output_type": "execute_result"
    }
   ],
   "source": [
    "# 7. Combining Data Types\n",
    "# 7.1 List of tuples:\n",
    "student_grades = [\n",
    "    ('Ali', 'Java', 'A'),\n",
    "    ('Mohamed', 'C++', 'C'),\n",
    "    ('Omar', 'ADB', 'B+'),\n",
    "    ('Malek', 'Apm', 'A-'),\n",
    "]\n",
    "\n",
    "student_grades[1]"
   ]
  },
  {
   "cell_type": "code",
   "execution_count": 53,
   "id": "61482157",
   "metadata": {},
   "outputs": [
    {
     "data": {
      "text/plain": [
       "'C'"
      ]
     },
     "execution_count": 53,
     "metadata": {},
     "output_type": "execute_result"
    }
   ],
   "source": [
    "# work with the individual tuples:\n",
    "\n",
    "student_grades[1][2]"
   ]
  },
  {
   "cell_type": "code",
   "execution_count": 54,
   "id": "3fc236da",
   "metadata": {},
   "outputs": [
    {
     "data": {
      "text/plain": [
       "[{'name': 'Ali', 'subject': 'Java', 'grade': 'A'},\n",
       " {'name': 'Mohamed', 'subject': 'C++', 'grade': 'C'},\n",
       " {'name': 'Omar', 'subject': 'ADB', 'grade': 'B+'},\n",
       " {'name': 'Malek', 'subject': 'Apm', 'grade': 'A-'}]"
      ]
     },
     "execution_count": 54,
     "metadata": {},
     "output_type": "execute_result"
    }
   ],
   "source": [
    "# 7.2 List of dictionaries\n",
    "student_grade_records = []\n",
    "for student_name, subject, grade in student_grades:\n",
    "    record = {\n",
    "        'name': student_name,\n",
    "        'subject': subject,\n",
    "        'grade': grade,\n",
    "    }\n",
    "    student_grade_records.append(record)\n",
    "    \n",
    "student_grade_records"
   ]
  },
  {
   "cell_type": "code",
   "execution_count": 55,
   "id": "19067194",
   "metadata": {},
   "outputs": [
    {
     "data": {
      "text/plain": [
       "{'name': 'Mohamed', 'subject': 'C++', 'grade': 'C'}"
      ]
     },
     "execution_count": 55,
     "metadata": {},
     "output_type": "execute_result"
    }
   ],
   "source": [
    "# Print one dictionary from list of dictioneris :\n",
    "\n",
    "student_grade_records[1]"
   ]
  },
  {
   "cell_type": "code",
   "execution_count": 56,
   "id": "4a28ab57",
   "metadata": {},
   "outputs": [
    {
     "data": {
      "text/plain": [
       "'C'"
      ]
     },
     "execution_count": 56,
     "metadata": {},
     "output_type": "execute_result"
    }
   ],
   "source": [
    "# Work with the individual records:\n",
    "\n",
    "student_grade_records[1]['grade']"
   ]
  },
  {
   "cell_type": "code",
   "execution_count": 57,
   "id": "336b0b21",
   "metadata": {},
   "outputs": [
    {
     "data": {
      "text/plain": [
       "{'Ali': {'subject': 'Java', 'grade': 'A'},\n",
       " 'Mohamed': {'subject': 'C++', 'grade': 'C'},\n",
       " 'Omar': {'subject': 'ADB', 'grade': 'B+'},\n",
       " 'Malek': {'subject': 'Apm', 'grade': 'A-'}}"
      ]
     },
     "execution_count": 57,
     "metadata": {},
     "output_type": "execute_result"
    }
   ],
   "source": [
    "# 7.3 Dictionary of dictionaries\n",
    "stu_subjects_grades = {}\n",
    "for student_name, subject, grade in student_grades:\n",
    "    record = {\n",
    "        'subject': subject,\n",
    "        'grade': grade,\n",
    "    }\n",
    "    stu_subjects_grades[student_name] = record\n",
    "    \n",
    "stu_subjects_grades"
   ]
  },
  {
   "cell_type": "code",
   "execution_count": 58,
   "id": "93ea4da3",
   "metadata": {},
   "outputs": [
    {
     "data": {
      "text/plain": [
       "{'subject': 'Java', 'grade': 'A'}"
      ]
     },
     "execution_count": 58,
     "metadata": {},
     "output_type": "execute_result"
    }
   ],
   "source": [
    "# Print one dictionery by using student name:\n",
    "stu_subjects_grades['Ali']"
   ]
  },
  {
   "cell_type": "code",
   "execution_count": 59,
   "id": "0055c3d8",
   "metadata": {},
   "outputs": [
    {
     "data": {
      "text/plain": [
       "{('Ali', 'Java'): 'A',\n",
       " ('Mohamed', 'C++'): 'C',\n",
       " ('Omar', 'ADB'): 'B+',\n",
       " ('Malek', 'Apm'): 'A-'}"
      ]
     },
     "execution_count": 59,
     "metadata": {},
     "output_type": "execute_result"
    }
   ],
   "source": [
    "# 7.4 Dictionary with tuple keys\n",
    "stu_subjects_grades = {}\n",
    "for student_name, subject, grade in student_grades:\n",
    "    stu_subjects_grades[student_name, subject] = grade\n",
    "    \n",
    "stu_subjects_grades"
   ]
  },
  {
   "cell_type": "code",
   "execution_count": null,
   "id": "dad0613c",
   "metadata": {},
   "outputs": [],
   "source": []
  }
 ],
 "metadata": {
  "kernelspec": {
   "display_name": "Python 3 (ipykernel)",
   "language": "python",
   "name": "python3"
  },
  "language_info": {
   "codemirror_mode": {
    "name": "ipython",
    "version": 3
   },
   "file_extension": ".py",
   "mimetype": "text/x-python",
   "name": "python",
   "nbconvert_exporter": "python",
   "pygments_lexer": "ipython3",
   "version": "3.9.7"
  }
 },
 "nbformat": 4,
 "nbformat_minor": 5
}
